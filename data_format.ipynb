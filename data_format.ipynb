{
 "cells": [
  {
   "cell_type": "code",
   "execution_count": 12,
   "metadata": {},
   "outputs": [],
   "source": [
    "import glob\n",
    "import os\n",
    "import numpy as np\n",
    "\n",
    "dataset = 'D:\\python\\GCN\\DeepGraphClustering\\data\\MUTAG'\n",
    "gmls = glob.glob(dataset + '\\*.gml')\n",
    "\n",
    "def idx_format(i):\n",
    "    i1 = int(i/100)\n",
    "    i2 = int(i%100/10)\n",
    "    i3 = int(i%10)\n",
    "    return '{}{}{}'.format(i1, i2, i3)\n",
    "\n",
    "with open(dataset + '\\Labels.txt') as f:\n",
    "    ls = f.readlines()\n",
    "    labels = np.array([int(l.rstrip()) for l in ls])\n",
    "labels_ = np.copy(labels)\n",
    "n_of_y = 0\n",
    "for l in labels:\n",
    "    if(l == 1):\n",
    "        n_of_y += 1\n",
    "\n",
    "map = {}\n",
    "next_i_y, next_i_n = 0, 0\n",
    "for i in range(len(labels)):\n",
    "    if(labels[i] == 1):\n",
    "        map[i] = next_i_y\n",
    "        next_i_y += 1\n",
    "    else:\n",
    "        map[i] = n_of_y + next_i_n\n",
    "        next_i_n += 1\n",
    "        \n",
    "for before, after in enumerate(map.values()):\n",
    "    labels_[after] = labels[before]\n",
    "\n",
    "'''\n",
    "for i in range(188):\n",
    "    os.rename('{}\\{}_buff.gml'.format(dataset, i), '{}\\{}.gml'.format(dataset, i))\n",
    "'''\n",
    "with open(dataset + '\\Labels_.txt', 'w') as w:\n",
    "    for l in labels_:\n",
    "        w.write('{}\\n'.format(l))"
   ]
  },
  {
   "cell_type": "code",
   "execution_count": null,
   "metadata": {},
   "outputs": [],
   "source": []
  }
 ],
 "metadata": {
  "kernelspec": {
   "display_name": "Python 3",
   "language": "python",
   "name": "python3"
  },
  "language_info": {
   "codemirror_mode": {
    "name": "ipython",
    "version": 3
   },
   "file_extension": ".py",
   "mimetype": "text/x-python",
   "name": "python",
   "nbconvert_exporter": "python",
   "pygments_lexer": "ipython3",
   "version": "3.7.5"
  }
 },
 "nbformat": 4,
 "nbformat_minor": 2
}
