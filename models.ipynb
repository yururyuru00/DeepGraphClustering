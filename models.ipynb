{
 "cells": [
  {
   "cell_type": "code",
   "execution_count": null,
   "metadata": {},
   "outputs": [],
   "source": [
    "import torch\n",
    "import torch.nn as nn\n",
    "import torch.nn.functional as F\n",
    "from layers import GraphConvolution\n",
    "\n",
    "\n",
    "class GCN(nn.Module):\n",
    "    def __init__(self, nfeat, nhid, nclass, dropout):\n",
    "        super(GCN, self).__init__()\n",
    "\n",
    "        #hidden_layer=[256, 128, 64, 32]\n",
    "        self.gc1 = GraphConvolution(nfeat, nhid[0])\n",
    "        self.gc2 = GraphConvolution(nhid[0], nhid[1])\n",
    "        self.affc1 = nn.Linear(nhid[1], nhid[2])\n",
    "        self.bn1 = nn.BatchNorm1d(nhid[2])\n",
    "        self.affc2 = nn.Linear(nhid[2], nhid[3])\n",
    "        self.bn2 = nn.BatchNorm1d(nhid[3])\n",
    "        self.affc3 = nn.Linear(nhid[3], nclass)\n",
    "        self.affr1 = nn.Linear(nhid[1], nhid[2])\n",
    "        self.affr2 = nn.Linear(nhid[2], nhid[3])\n",
    "        self.affr3 = nn.Linear(nhid[3], nfeat)\n",
    "        self.dropout = dropout\n",
    "\n",
    "    def forward(self, x, adj): #x:特徴行列, adj:隣接行列として渡される\n",
    "        x1 = torch.tanh(self.gc1(x, adj)) #第1層目のGCクラスのforward実行➡relu実行\n",
    "        x1 = F.dropout(x1, self.dropout, training=self.training)\n",
    "        x2 = torch.tanh(self.gc2(x1, adj))\n",
    "        x2 = F.dropout(x2, self.dropout, training=self.training)\n",
    "        #Zn = x2.cuda().cpu().detach().numpy().copy() #GCによるノード表現を保持\n",
    "        #forward で得られる複数のx1~xkを連結したものを出力すればよいはず(まだ未実装)\n",
    "        \n",
    "        #Clustering MLP + BatchNormalization\n",
    "        xc3 = F.relu(self.affc1(x2))\n",
    "        xc3 = F.dropout(xc3, self.dropout, training=self.training)\n",
    "        xc4 = F.relu(self.affc2(xc3))\n",
    "        xc4 = F.dropout(xc4, self.dropout, training=self.training)\n",
    "        xc5 = self.affc3(xc4)\n",
    "        xc5 = F.dropout(xc5, self.dropout, training=self.training)\n",
    "        xc5 = F.log_softmax(xc5, dim=1)\n",
    "        #Reconstruct MLP\n",
    "        xr3 = F.relu(self.affr1(x2))\n",
    "        xr3 = F.dropout(xr3, self.dropout, training=self.training)\n",
    "        xr4 = F.relu(self.affr2(xr3))\n",
    "        xr4 = F.dropout(xr4, self.dropout, training=self.training)\n",
    "        xr5 = self.affr3(xr4)\n",
    "        xr5 = F.dropout(xr5, self.dropout, training=self.training)\n",
    "        #RMLPについては最後にdropoutは入れるべきかどうか考慮中\n",
    "        \n",
    "        return [xc5, xr5]"
   ]
  }
 ],
 "metadata": {
  "kernelspec": {
   "display_name": "Python 3",
   "language": "python",
   "name": "python3"
  },
  "language_info": {
   "codemirror_mode": {
    "name": "ipython",
    "version": 3
   },
   "file_extension": ".py",
   "mimetype": "text/x-python",
   "name": "python",
   "nbconvert_exporter": "python",
   "pygments_lexer": "ipython3",
   "version": "3.7.5"
  }
 },
 "nbformat": 4,
 "nbformat_minor": 2
}
